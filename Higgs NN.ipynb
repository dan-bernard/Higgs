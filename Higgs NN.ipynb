{
 "cells": [
  {
   "cell_type": "code",
   "execution_count": 1,
   "metadata": {},
   "outputs": [
    {
     "name": "stdout",
     "output_type": "stream",
     "text": [
      "Welcome to JupyROOT 6.26/02\n"
     ]
    }
   ],
   "source": [
    "import ROOT\n",
    "from ROOT import TMath\n",
    "import random\n",
    "import numpy as np\n",
    "import tensorflow as tf\n",
    "from tensorflow import keras\n",
    "from keras import layers\n",
    "import matplotlib.pyplot as plt"
   ]
  },
  {
   "cell_type": "code",
   "execution_count": 50,
   "metadata": {},
   "outputs": [
    {
     "name": "stdout",
     "output_type": "stream",
     "text": [
      "Channel: ttH has 576491 entries\n",
      "Channel: ggH has 1054711 entries\n",
      "Channel: WWH has 497468 entries\n",
      "Channel: data1 has 430344 entries\n",
      "Processing Channel  ttH\n",
      "Processing Channel  ggH\n",
      "Processing Channel  WWH\n",
      "Processing Channel  data1\n"
     ]
    }
   ],
   "source": [
    "\n",
    "'''Importing the data from the ROOT files'''\n",
    "\n",
    "ttH = ROOT.TFile.Open(\"mc_341081.ttH125_gamgam.GamGam.root\")\n",
    "ggH = ROOT.TFile.Open(\"mc_343981.ggH125_gamgam.GamGam.root\")\n",
    "WWH = ROOT.TFile.Open(\"mc_345041.VBFH125_gamgam.GamGam.root\")\n",
    "data1 = ROOT.TFile.Open(\"data_A.GamGam.root\")\n",
    "\n",
    "Channels = {\"ttH\":ttH.Get(\"mini\"),\"ggH\":ggH.Get(\"mini\"),\"WWH\":WWH.Get(\"mini\"), 'data1':data1.Get('mini')}\n",
    "\n",
    "for channel in Channels:\n",
    "    print(\"Channel:\",channel,\"has\",Channels[channel].GetEntries(),\"entries\")\n",
    "\n",
    "OutputMap = {\"ttH\":[1,0,0,0],\"ggH\":[0,1,0,0],\"WWH\":[0,0,1,0], 'data1':[0,0,0,1]}\n",
    "\n",
    "# Here we shall store the two photons & outputs \n",
    "dataset = []\n",
    "\n",
    "# Prepare Data for NN\n",
    "# Events are not filtered by LLT or HLT\n",
    "\n",
    "for channel in Channels:\n",
    "    print(\"Processing Channel \",channel)\n",
    "    Channel = Channels[channel]\n",
    "    counter = 0\n",
    "    for event in Channel:\n",
    "        #if (not event.trigP):\n",
    "            #continue\n",
    "        if counter > 50000:\n",
    "            break\n",
    "        Photons = []\n",
    "        if Channel.photon_n != 2:\n",
    "            continue\n",
    "        for j in range(Channel.photon_n):\n",
    "            Momentum = ROOT.TLorentzVector()\n",
    "            Momentum.SetPtEtaPhiE(Channel.photon_pt[j]/1000., Channel.photon_eta[j],Channel.photon_phi[j],Channel.photon_E[j]/1000.)\n",
    "            Photons.append(Momentum)\n",
    "        Photons.sort(key  = lambda p : -p.E())#sorts by energy most energetic goes first\n",
    "        data = []\n",
    "        for i in range(len(Photons)):\n",
    "            #momentum of the photons go into nn\n",
    "            data.append(Photons[i].E() )\n",
    "            data.append(Photons[i].Px())\n",
    "            data.append(Photons[i].Py())\n",
    "            data.append(Photons[i].Pz())\n",
    "        for vec in OutputMap[channel]:\n",
    "            data.append(vec)\n",
    "        dataset.append(data)\n",
    "        counter += 1\n",
    "        \n",
    "        \n",
    "random.shuffle(dataset)\n",
    "dataset = np.asarray(dataset)"
   ]
  },
  {
   "cell_type": "code",
   "execution_count": 4,
   "metadata": {},
   "outputs": [
    {
     "data": {
      "text/plain": [
       "8"
      ]
     },
     "execution_count": 4,
     "metadata": {},
     "output_type": "execute_result"
    }
   ],
   "source": [
    "len(dataset[0,:-3])"
   ]
  },
  {
   "cell_type": "code",
   "execution_count": 3,
   "metadata": {},
   "outputs": [
    {
     "data": {
      "image/png": "[encoded data removed]",
      "text/plain": [
       "<Figure size 432x288 with 1 Axes>"
      ]
     },
     "metadata": {
      "needs_background": "light"
     },
     "output_type": "display_data"
    },
    {
     "name": "stderr",
     "output_type": "stream",
     "text": [
      "2022-04-24 14:29:39.892240: I tensorflow/core/platform/cpu_feature_guard.cc:151] This TensorFlow binary is optimized with oneAPI Deep Neural Network Library (oneDNN) to use the following CPU instructions in performance-critical operations:  AVX2 FMA\n",
      "To enable them in other operations, rebuild TensorFlow with the appropriate compiler flags.\n"
     ]
    }
   ],
   "source": [
    "''' Building the NN '''\n",
    "\n",
    "tf.keras.backend.clear_session()\n",
    "\n",
    "ilayer = layers.Dense(units = 3, input_dim = len(dataset[0,:-3]), activation=\"relu\")\n",
    "layer1 = layers.Dense(units = 8, activation=\"relu\")\n",
    "layer2 = layers.Dense(units = 9, activation=\"relu\")\n",
    "olayer = layers.Dense(units = 3, activation = \"sigmoid\")\n",
    "\n",
    "#last layer has 3 nodes - 3 possibilities\n",
    "\n",
    "model = keras.Sequential([ilayer,layer1,layer2,olayer])\n",
    "\n",
    "fraction = 0.35\n",
    "point = int(len(dataset)*fraction)\n",
    "\n",
    "xtrain = dataset[:point,:-3]\n",
    "ytrain = dataset[:point,-3:]\n",
    "\n",
    "xtest  = dataset[point:,:-3]\n",
    "ytest  = dataset[point:,-3:]\n",
    "\n",
    "model.compile(\n",
    "    optimizer = keras.optimizers.SGD(0.001),\n",
    "    loss=\"binary_crossentropy\"\n",
    "    )\n",
    "\n",
    "''' Training the NN '''\n",
    "\n",
    "history = model.fit(x = xtrain, y=ytrain, epochs=3000, verbose = False)\n",
    "plt.plot(history.history[\"loss\"])\n",
    "plt.show()"
   ]
  },
  {
   "cell_type": "code",
   "execution_count": 52,
   "metadata": {},
   "outputs": [
    {
     "name": "stdout",
     "output_type": "stream",
     "text": [
      "Epoch 1/100\n",
      "2188/2188 [==============================] - 4s 2ms/step - loss: 0.7559\n",
      "Epoch 2/100\n",
      "2188/2188 [==============================] - 3s 1ms/step - loss: 0.6307\n",
      "Epoch 3/100\n",
      "2188/2188 [==============================] - 3s 1ms/step - loss: 0.6094\n",
      "Epoch 4/100\n",
      "2188/2188 [==============================] - 3s 1ms/step - loss: 0.5970\n",
      "Epoch 5/100\n",
      "2188/2188 [==============================] - 3s 1ms/step - loss: 0.5880\n",
      "Epoch 6/100\n",
      "2188/2188 [==============================] - 3s 1ms/step - loss: 0.5809\n",
      "Epoch 7/100\n",
      "2188/2188 [==============================] - 3s 1ms/step - loss: 0.5753\n",
      "Epoch 8/100\n",
      "2188/2188 [==============================] - 3s 1ms/step - loss: 0.5704\n",
      "Epoch 9/100\n",
      "2188/2188 [==============================] - 3s 1ms/step - loss: 0.5665\n",
      "Epoch 10/100\n",
      "2188/2188 [==============================] - 4s 2ms/step - loss: 0.5634\n",
      "Epoch 11/100\n",
      "2188/2188 [==============================] - 3s 1ms/step - loss: 0.5613\n",
      "Epoch 12/100\n",
      "2188/2188 [==============================] - 3s 1ms/step - loss: 0.5597\n",
      "Epoch 13/100\n",
      "2188/2188 [==============================] - 3s 1ms/step - loss: 0.5583\n",
      "Epoch 14/100\n",
      "2188/2188 [==============================] - 3s 1ms/step - loss: 0.5571\n",
      "Epoch 15/100\n",
      "2188/2188 [==============================] - 3s 1ms/step - loss: 0.5561\n",
      "Epoch 16/100\n",
      "2188/2188 [==============================] - 3s 1ms/step - loss: 0.5551\n",
      "Epoch 17/100\n",
      "2188/2188 [==============================] - 3s 1ms/step - loss: 0.5544\n",
      "Epoch 18/100\n",
      "2188/2188 [==============================] - 3s 1ms/step - loss: 0.5537\n",
      "Epoch 19/100\n",
      "2188/2188 [==============================] - 3s 1ms/step - loss: 0.5530\n",
      "Epoch 20/100\n",
      "2188/2188 [==============================] - 3s 1ms/step - loss: 0.5524\n",
      "Epoch 21/100\n",
      "2188/2188 [==============================] - 3s 1ms/step - loss: 0.5519\n",
      "Epoch 22/100\n",
      "2188/2188 [==============================] - 3s 1ms/step - loss: 0.5515\n",
      "Epoch 23/100\n",
      "2188/2188 [==============================] - 3s 1ms/step - loss: 0.5510\n",
      "Epoch 24/100\n",
      "2188/2188 [==============================] - 3s 1ms/step - loss: 0.5502\n",
      "Epoch 25/100\n",
      "2188/2188 [==============================] - 3s 1ms/step - loss: 0.5496\n",
      "Epoch 26/100\n",
      "2188/2188 [==============================] - 3s 1ms/step - loss: 0.5491\n",
      "Epoch 27/100\n",
      "2188/2188 [==============================] - 3s 1ms/step - loss: 0.5487\n",
      "Epoch 28/100\n",
      "2188/2188 [==============================] - 3s 1ms/step - loss: 0.5482\n",
      "Epoch 29/100\n",
      "2188/2188 [==============================] - 3s 1ms/step - loss: 0.5478\n",
      "Epoch 30/100\n",
      "2188/2188 [==============================] - 3s 1ms/step - loss: 0.5475\n",
      "Epoch 31/100\n",
      "2188/2188 [==============================] - 3s 1ms/step - loss: 0.5471\n",
      "Epoch 32/100\n",
      "2188/2188 [==============================] - 3s 1ms/step - loss: 0.5465\n",
      "Epoch 33/100\n",
      "2188/2188 [==============================] - 3s 1ms/step - loss: 0.5450\n",
      "Epoch 34/100\n",
      "2188/2188 [==============================] - 3s 1ms/step - loss: 0.5443\n",
      "Epoch 35/100\n",
      "2188/2188 [==============================] - 3s 1ms/step - loss: 0.5438\n",
      "Epoch 36/100\n",
      "2188/2188 [==============================] - 3s 1ms/step - loss: 0.5434\n",
      "Epoch 37/100\n",
      "2188/2188 [==============================] - 3s 1ms/step - loss: 0.5431\n",
      "Epoch 38/100\n",
      "2188/2188 [==============================] - 4s 2ms/step - loss: 0.5427\n",
      "Epoch 39/100\n",
      "2188/2188 [==============================] - 3s 2ms/step - loss: 0.5425\n",
      "Epoch 40/100\n",
      "2188/2188 [==============================] - 3s 1ms/step - loss: 0.5421\n",
      "Epoch 41/100\n",
      "2188/2188 [==============================] - 3s 1ms/step - loss: 0.5418\n",
      "Epoch 42/100\n",
      "2188/2188 [==============================] - 3s 1ms/step - loss: 0.5417\n",
      "Epoch 43/100\n",
      "2188/2188 [==============================] - 3s 1ms/step - loss: 0.5412\n",
      "Epoch 44/100\n",
      "2188/2188 [==============================] - 3s 1ms/step - loss: 0.5408\n",
      "Epoch 45/100\n",
      "2188/2188 [==============================] - 3s 1ms/step - loss: 0.5403\n",
      "Epoch 46/100\n",
      "2188/2188 [==============================] - 3s 2ms/step - loss: 0.5400\n",
      "Epoch 47/100\n",
      "2188/2188 [==============================] - 3s 1ms/step - loss: 0.5397\n",
      "Epoch 48/100\n",
      "2188/2188 [==============================] - 3s 1ms/step - loss: 0.5394\n",
      "Epoch 49/100\n",
      "2188/2188 [==============================] - 3s 1ms/step - loss: 0.5390\n",
      "Epoch 50/100\n",
      "2188/2188 [==============================] - 3s 1ms/step - loss: 0.5387\n",
      "Epoch 51/100\n",
      "2188/2188 [==============================] - 3s 1ms/step - loss: 0.5383\n",
      "Epoch 52/100\n",
      "2188/2188 [==============================] - 3s 1ms/step - loss: 0.5380\n",
      "Epoch 53/100\n",
      "2188/2188 [==============================] - 3s 1ms/step - loss: 0.5377\n",
      "Epoch 54/100\n",
      "2188/2188 [==============================] - 3s 1ms/step - loss: 0.5374\n",
      "Epoch 55/100\n",
      "2188/2188 [==============================] - 3s 1ms/step - loss: 0.5371\n",
      "Epoch 56/100\n",
      "2188/2188 [==============================] - 3s 1ms/step - loss: 0.5368\n",
      "Epoch 57/100\n",
      "2188/2188 [==============================] - 3s 1ms/step - loss: 0.5365\n",
      "Epoch 58/100\n",
      "2188/2188 [==============================] - 3s 1ms/step - loss: 0.5362\n",
      "Epoch 59/100\n",
      "2188/2188 [==============================] - 3s 1ms/step - loss: 0.5360\n",
      "Epoch 60/100\n",
      "2188/2188 [==============================] - 3s 1ms/step - loss: 0.5357\n",
      "Epoch 61/100\n",
      "2188/2188 [==============================] - 3s 1ms/step - loss: 0.5355\n",
      "Epoch 62/100\n",
      "2188/2188 [==============================] - 3s 1ms/step - loss: 0.5353\n",
      "Epoch 63/100\n",
      "2188/2188 [==============================] - 3s 1ms/step - loss: 0.5350\n",
      "Epoch 64/100\n",
      "2188/2188 [==============================] - 3s 1ms/step - loss: 0.5348\n",
      "Epoch 65/100\n",
      "2188/2188 [==============================] - 3s 1ms/step - loss: 0.5345\n",
      "Epoch 66/100\n",
      "2188/2188 [==============================] - 3s 1ms/step - loss: 0.5343\n",
      "Epoch 67/100\n",
      "2188/2188 [==============================] - 3s 1ms/step - loss: 0.5340\n",
      "Epoch 68/100\n",
      "2188/2188 [==============================] - 3s 1ms/step - loss: 0.5336\n",
      "Epoch 69/100\n",
      "2188/2188 [==============================] - 3s 1ms/step - loss: 0.5331\n",
      "Epoch 70/100\n",
      "2188/2188 [==============================] - 3s 1ms/step - loss: 0.5324\n",
      "Epoch 71/100\n",
      "2188/2188 [==============================] - 3s 1ms/step - loss: 0.5319\n",
      "Epoch 72/100\n",
      "2188/2188 [==============================] - 3s 1ms/step - loss: 0.5314\n",
      "Epoch 73/100\n",
      "2188/2188 [==============================] - 3s 1ms/step - loss: 0.5307\n",
      "Epoch 74/100\n",
      "2188/2188 [==============================] - 3s 1ms/step - loss: 0.5301\n",
      "Epoch 75/100\n",
      "2188/2188 [==============================] - 3s 1ms/step - loss: 0.5296\n",
      "Epoch 76/100\n",
      "2188/2188 [==============================] - 3s 1ms/step - loss: 0.5290\n",
      "Epoch 77/100\n",
      "2188/2188 [==============================] - 3s 1ms/step - loss: 0.5285\n",
      "Epoch 78/100\n",
      "2188/2188 [==============================] - 3s 1ms/step - loss: 0.5280\n",
      "Epoch 79/100\n",
      "2188/2188 [==============================] - 3s 1ms/step - loss: 0.5277\n",
      "Epoch 80/100\n",
      "2188/2188 [==============================] - 3s 1ms/step - loss: 0.5272\n",
      "Epoch 81/100\n",
      "2188/2188 [==============================] - 3s 1ms/step - loss: 0.5269\n",
      "Epoch 82/100\n",
      "2188/2188 [==============================] - 3s 1ms/step - loss: 0.5266\n",
      "Epoch 83/100\n",
      "2188/2188 [==============================] - 3s 1ms/step - loss: 0.5262\n",
      "Epoch 84/100\n",
      "2188/2188 [==============================] - 3s 1ms/step - loss: 0.5259\n",
      "Epoch 85/100\n",
      "2188/2188 [==============================] - 3s 1ms/step - loss: 0.5256\n",
      "Epoch 86/100\n",
      "2188/2188 [==============================] - 3s 1ms/step - loss: 0.5252\n",
      "Epoch 87/100\n",
      "2188/2188 [==============================] - 3s 1ms/step - loss: 0.5248\n",
      "Epoch 88/100\n",
      "2188/2188 [==============================] - 3s 1ms/step - loss: 0.5245\n",
      "Epoch 89/100\n",
      "2188/2188 [==============================] - 3s 1ms/step - loss: 0.5241\n",
      "Epoch 90/100\n",
      "2188/2188 [==============================] - 3s 1ms/step - loss: 0.5238\n",
      "Epoch 91/100\n",
      "2188/2188 [==============================] - 3s 1ms/step - loss: 0.5234\n",
      "Epoch 92/100\n",
      "2188/2188 [==============================] - 3s 1ms/step - loss: 0.5230\n",
      "Epoch 93/100\n",
      "2188/2188 [==============================] - 3s 1ms/step - loss: 0.5227\n",
      "Epoch 94/100\n",
      "2188/2188 [==============================] - 3s 1ms/step - loss: 0.5223\n",
      "Epoch 95/100\n",
      "2188/2188 [==============================] - 3s 1ms/step - loss: 0.5219\n",
      "Epoch 96/100\n",
      "2188/2188 [==============================] - 3s 1ms/step - loss: 0.5215\n",
      "Epoch 97/100\n"
     ]
    },
    {
     "name": "stdout",
     "output_type": "stream",
     "text": [
      "2188/2188 [==============================] - 3s 1ms/step - loss: 0.5211\n",
      "Epoch 98/100\n",
      "2188/2188 [==============================] - 3s 1ms/step - loss: 0.5207\n",
      "Epoch 99/100\n",
      "2188/2188 [==============================] - 3s 1ms/step - loss: 0.5203\n",
      "Epoch 100/100\n",
      "2188/2188 [==============================] - 3s 1ms/step - loss: 0.5198\n"
     ]
    },
    {
     "data": {
      "image/png": "[encoded data removed]",
      "text/plain": [
       "<Figure size 432x288 with 1 Axes>"
      ]
     },
     "metadata": {
      "needs_background": "light"
     },
     "output_type": "display_data"
    }
   ],
   "source": [
    "''' Building the NN '''\n",
    "\n",
    "tf.keras.backend.clear_session()\n",
    "\n",
    "ilayer = layers.Dense(units = 4, input_dim = len(dataset[0,:-4]), activation=\"relu\")\n",
    "layer1 = layers.Dense(units = 8, activation=\"relu\")\n",
    "layer2 = layers.Dense(units = 9, activation=\"relu\")\n",
    "olayer = layers.Dense(units = 4, activation = \"sigmoid\")\n",
    "\n",
    "#last layer has 3 nodes - 3 possibilities\n",
    "\n",
    "model2 = keras.Sequential([ilayer,layer1,layer2,olayer])\n",
    "\n",
    "fraction = 0.35\n",
    "point = int(len(dataset)*fraction)\n",
    "\n",
    "xtrain = dataset[:point,:-4]\n",
    "ytrain = dataset[:point,-4:]\n",
    "\n",
    "xtest  = dataset[point:,:-4]\n",
    "ytest  = dataset[point:,-4:]\n",
    "\n",
    "model2.compile(\n",
    "    optimizer = keras.optimizers.SGD(0.001),\n",
    "    loss=\"binary_crossentropy\"\n",
    "    )\n",
    "\n",
    "''' Training the NN '''\n",
    "\n",
    "history = model2.fit(x = xtrain, y=ytrain, epochs=100, verbose = True)\n",
    "plt.plot(history.history[\"loss\"])\n",
    "plt.show()"
   ]
  },
  {
   "cell_type": "code",
   "execution_count": 93,
   "metadata": {
    "scrolled": false
   },
   "outputs": [
    {
     "name": "stdout",
     "output_type": "stream",
     "text": [
      "[[0. 1. 0. 0.]\n",
      " [0. 0. 0. 1.]\n",
      " [1. 0. 0. 0.]\n",
      " [0. 0. 0. 1.]\n",
      " [0. 1. 0. 0.]\n",
      " [1. 0. 0. 0.]\n",
      " [0. 0. 0. 1.]\n",
      " [0. 1. 0. 0.]\n",
      " [0. 0. 0. 1.]\n",
      " [0. 1. 0. 0.]\n",
      " [0. 0. 1. 0.]\n",
      " [0. 1. 0. 0.]\n",
      " [0. 1. 0. 0.]\n",
      " [1. 0. 0. 0.]\n",
      " [0. 0. 1. 0.]\n",
      " [0. 1. 0. 0.]\n",
      " [1. 0. 0. 0.]\n",
      " [0. 1. 0. 0.]\n",
      " [0. 0. 1. 0.]\n",
      " [0. 0. 1. 0.]\n",
      " [0. 0. 0. 1.]\n",
      " [0. 1. 0. 0.]\n",
      " [0. 0. 1. 0.]\n",
      " [0. 0. 1. 0.]\n",
      " [0. 1. 0. 0.]\n",
      " [0. 1. 0. 0.]\n",
      " [1. 0. 0. 0.]\n",
      " [0. 1. 0. 0.]\n",
      " [1. 0. 0. 0.]\n",
      " [0. 1. 0. 0.]\n",
      " [0. 1. 0. 0.]\n",
      " [0. 0. 0. 1.]\n",
      " [0. 0. 1. 0.]\n",
      " [1. 0. 0. 0.]\n",
      " [0. 1. 0. 0.]\n",
      " [1. 0. 0. 0.]\n",
      " [0. 1. 0. 0.]\n",
      " [0. 0. 0. 1.]\n",
      " [0. 0. 1. 0.]\n",
      " [0. 0. 0. 1.]\n",
      " [0. 0. 1. 0.]\n",
      " [0. 0. 1. 0.]\n",
      " [0. 0. 0. 1.]\n",
      " [0. 0. 1. 0.]\n",
      " [1. 0. 0. 0.]\n",
      " [0. 0. 1. 0.]\n",
      " [0. 1. 0. 0.]\n",
      " [0. 0. 0. 1.]\n",
      " [1. 0. 0. 0.]\n",
      " [1. 0. 0. 0.]]\n",
      "Efficeincy :  38.96833150004231\n"
     ]
    }
   ],
   "source": [
    "pred = model2.predict(xtrain)\n",
    "test = model2.predict(xtest)\n",
    "\n",
    "\n",
    "#P = pred[:50,:]\n",
    "\n",
    "#print(pred[:50,:])\n",
    "           \n",
    "def process(prediction):#converts from % prediction to [0,0,1]\n",
    "    for i in range(len(prediction)):\n",
    "        Maxj = 0\n",
    "        for j in range(len(prediction[i])):\n",
    "            if prediction[i][j] > prediction[i][Maxj]:\n",
    "                Maxj = j       \n",
    "        prediction[i] = [0 if prediction[i][Maxj] > prediction[i][j] else 1 for j in range(len(prediction[i]))]\n",
    "\n",
    "    \n",
    "process(test)\n",
    "print(ytrain[:50,:]) \n",
    "\n",
    "diff = abs(test - ytest)\n",
    "\n",
    "eff = 0\n",
    "for predict in diff:\n",
    "    eff += 1\n",
    "    for feature in predict:\n",
    "        if feature != 0:\n",
    "            eff -= 1\n",
    "            break\n",
    "\n",
    "#print(eff)\n",
    "#print(len(diff))\n",
    "eff /= len(diff)\n",
    "print(\"Efficeincy : \",eff*100)"
   ]
  },
  {
   "cell_type": "code",
   "execution_count": 92,
   "metadata": {},
   "outputs": [
    {
     "name": "stdout",
     "output_type": "stream",
     "text": [
      "[0. 0. 0. 1.]\n",
      "[0.41078764 0.17998037 0.42054892]\n"
     ]
    }
   ],
   "source": [
    "print(ytest[0])\n",
    "print(pred[0])"
   ]
  },
  {
   "cell_type": "code",
   "execution_count": 73,
   "metadata": {},
   "outputs": [
    {
     "name": "stderr",
     "output_type": "stream",
     "text": [
      "Warning in <TCanvas::Constructor>: Deleting canvas with same name: canvas\n",
      "Warning in <TFile::Append>: Replacing existing TH1: photon pt (Potential memory leak).\n",
      "Warning in <TFile::Append>: Replacing existing TH1: photon pt (Potential memory leak).\n"
     ]
    },
    {
     "data": {
      "image/png": "[encoded data removed]",
      "text/plain": [
       "<IPython.core.display.Image object>"
      ]
     },
     "metadata": {},
     "output_type": "display_data"
    }
   ],
   "source": [
    "canvas = ROOT.TCanvas('canvas', 'c', 800, 600)\n",
    "#creates pt histograms\n",
    "tthist = ROOT.TH1F('photon pt', 'tt pt', 100, 0, 3000)\n",
    "\n",
    "for d in dataset:\n",
    "    if d[8] != 1:#not a tt\n",
    "        continue\n",
    "    tthist.Fill(np.sqrt(d[0]**2 + d[1]**2))#pt of most energetic photon in tt channel\n",
    "    \n",
    "tthist.Draw()\n",
    "canvas.Draw()\n",
    "\n",
    "gghist = ROOT.TH1F('photon pt', 'gg pt', 100, 0, 3000)    \n",
    "for d in dataset:\n",
    "    if d[9] != 1:\n",
    "        continue\n",
    "    gghist.Fill(np.sqrt(d[0]**2 + d[1]**2))\n",
    "    \n",
    "gghist.Draw()\n",
    "canvas.Draw()\n",
    "\n",
    "WWhist = ROOT.TH1F('photon pt', 'WW pt', 100, 0, 3000)\n",
    "for d in dataset:\n",
    "    if d[10] != 1:\n",
    "        continue\n",
    "    WWhist.Fill(np.sqrt(d[0]**2 + d[1]**2))\n",
    "    \n",
    "#WWhist.Draw()\n",
    "#canvas.Draw()"
   ]
  },
  {
   "cell_type": "code",
   "execution_count": 21,
   "metadata": {},
   "outputs": [
    {
     "name": "stdout",
     "output_type": "stream",
     "text": [
      "<class cppyy.gbl.TH1F at 0x7fbea16cbfb0>\n"
     ]
    },
    {
     "name": "stderr",
     "output_type": "stream",
     "text": [
      "Warning in <TCanvas::Constructor>: Deleting canvas with same name: canvas\n"
     ]
    },
    {
     "data": {
      "image/png": "[encoded data removed]",
      "text/plain": [
       "<IPython.core.display.Image object>"
      ]
     },
     "metadata": {},
     "output_type": "display_data"
    }
   ],
   "source": [
    "print(type(tthist))\n",
    "\n",
    "canvas = ROOT.TCanvas('canvas', 'c', 800, 600)\n",
    "\n",
    "tthist.Draw()\n",
    "canvas.Draw()"
   ]
  },
  {
   "cell_type": "code",
   "execution_count": 34,
   "metadata": {},
   "outputs": [],
   "source": [
    "def drawhist(name, Data, filters, function):\n",
    "    boundlow = 0\n",
    "    boundhigh = 0\n",
    "    \n",
    "    for d in Data:\n",
    "        skip = False\n",
    "        for f in filters:\n",
    "            if f(d) == False:\n",
    "                skip = True\n",
    "        if skip:\n",
    "            continue\n",
    "        g = function(d)\n",
    "        if boundlow > g:\n",
    "            boundlow = g\n",
    "        if boundhigh < g:\n",
    "            boundhigh = g\n",
    "            \n",
    "    \n",
    "    hist = ROOT.TH1F(name, name, int(np.sqrt(len(Data))), boundlow, boundhigh)\n",
    "    \n",
    "    for d in Data:\n",
    "        skip = False\n",
    "        for f in filters:\n",
    "            if f(d) == False:\n",
    "                skip = True\n",
    "        if skip:\n",
    "            continue\n",
    "        g = function(d)\n",
    "        hist.Fill(g)\n",
    "        \n",
    "    print(boundlow)\n",
    "    print(boundhigh)\n",
    "    return hist"
   ]
  },
  {
   "cell_type": "code",
   "execution_count": 49,
   "metadata": {},
   "outputs": [
    {
     "name": "stdout",
     "output_type": "stream",
     "text": [
      "0\n",
      "1122.0445\n"
     ]
    },
    {
     "name": "stderr",
     "output_type": "stream",
     "text": [
      "Warning in <TCanvas::Constructor>: Deleting canvas with same name: canvas\n"
     ]
    },
    {
     "data": {
      "image/png": "[encoded data removed]",
      "text/plain": [
       "<IPython.core.display.Image object>"
      ]
     },
     "metadata": {},
     "output_type": "display_data"
    }
   ],
   "source": [
    "tthist2 = drawhist('tt pt', dataset, [lambda d: (False if d[8] != 1 else True)], lambda d: np.sqrt(d[1]**2 + d[2]**2))\n",
    "canvas = ROOT.TCanvas('canvas', 'c', 800, 600) \n",
    "tthist2.Draw()\n",
    "canvas.Draw()"
   ]
  },
  {
   "cell_type": "code",
   "execution_count": 48,
   "metadata": {},
   "outputs": [
    {
     "name": "stdout",
     "output_type": "stream",
     "text": [
      "0\n",
      "577.9221249999999\n"
     ]
    },
    {
     "name": "stderr",
     "output_type": "stream",
     "text": [
      "Warning in <TCanvas::Constructor>: Deleting canvas with same name: canvas\n"
     ]
    },
    {
     "data": {
      "image/png": "[encoded data removed]",
      "text/plain": [
       "<IPython.core.display.Image object>"
      ]
     },
     "metadata": {},
     "output_type": "display_data"
    }
   ],
   "source": [
    "gghist2 = drawhist('gg pt', dataset, [lambda d: (True if d[9] == 1 else False)], lambda d: np.sqrt(d[1]**2 + d[2]**2))\n",
    "canvas = ROOT.TCanvas('canvas', 'c', 800, 600) \n",
    "gghist2.Draw()\n",
    "canvas.Draw()"
   ]
  },
  {
   "cell_type": "code",
   "execution_count": 47,
   "metadata": {},
   "outputs": [
    {
     "name": "stdout",
     "output_type": "stream",
     "text": [
      "0\n",
      "993.5440624999999\n"
     ]
    },
    {
     "name": "stderr",
     "output_type": "stream",
     "text": [
      "Warning in <TCanvas::Constructor>: Deleting canvas with same name: canvas\n"
     ]
    },
    {
     "data": {
      "image/png": "[encoded data removed]",
      "text/plain": [
       "<IPython.core.display.Image object>"
      ]
     },
     "metadata": {},
     "output_type": "display_data"
    }
   ],
   "source": [
    "WWhist2 = drawhist('WW pt', dataset, [lambda d: (True if d[10] == 1 else False)], lambda d: np.sqrt(d[1]**2 + d[2]**2))\n",
    "canvas = ROOT.TCanvas('canvas', 'c', 800, 600) \n",
    "WWhist2.Draw()\n",
    "canvas.Draw()"
   ]
  },
  {
   "cell_type": "code",
   "execution_count": 44,
   "metadata": {},
   "outputs": [
    {
     "name": "stdout",
     "output_type": "stream",
     "text": [
      "430344\n"
     ]
    }
   ],
   "source": [
    "realdata = []\n",
    "Channel = data1.Get('mini')\n",
    "counter = 0\n",
    "print(Channel.GetEntries())\n",
    "\n",
    "for event in Channel:\n",
    "        #if (not event.trigP):\n",
    "            #continue\n",
    "    if counter > 50000:\n",
    "        break\n",
    "    Photons = []\n",
    "    if Channel.photon_n != 2:\n",
    "        continue\n",
    "    for j in range(Channel.photon_n):\n",
    "        Momentum = ROOT.TLorentzVector()\n",
    "        Momentum.SetPtEtaPhiE(Channel.photon_pt[j]/1000., Channel.photon_eta[j],Channel.photon_phi[j],Channel.photon_E[j]/1000.)\n",
    "        Photons.append(Momentum)\n",
    "    Photons.sort(key = lambda p : -p.E())#sorts by energy most energetic goes first\n",
    "    data = []\n",
    "    for i in range(len(Photons)):\n",
    "            #momentum of the photons go into nn\n",
    "        data.append(Photons[i].E() )\n",
    "        data.append(Photons[i].Px())\n",
    "        data.append(Photons[i].Py())\n",
    "        data.append(Photons[i].Pz())\n",
    "    for vec in OutputMap[channel]:\n",
    "        data.append(vec)\n",
    "    realdata.append(data)\n",
    "    counter += 1\n",
    "        \n",
    "        \n",
    "random.shuffle(realdata)\n",
    "realdata = np.asarray(realdata)"
   ]
  },
  {
   "cell_type": "code",
   "execution_count": 46,
   "metadata": {},
   "outputs": [
    {
     "name": "stdout",
     "output_type": "stream",
     "text": [
      "0\n",
      "692.3366875\n"
     ]
    },
    {
     "name": "stderr",
     "output_type": "stream",
     "text": [
      "Warning in <TFile::Append>: Replacing existing TH1: data1_pt (Potential memory leak).\n"
     ]
    },
    {
     "data": {
      "image/png": "[encoded data removed]",
      "text/plain": [
       "<IPython.core.display.Image object>"
      ]
     },
     "metadata": {},
     "output_type": "display_data"
    }
   ],
   "source": [
    "data1hist = drawhist('data1_pt', realdata,[], lambda d: np.sqrt(d[1]**2 + d[2]**2))\n",
    "data1hist.Draw()\n",
    "canvas.Draw()\n",
    "\n"
   ]
  },
  {
   "cell_type": "code",
   "execution_count": 64,
   "metadata": {},
   "outputs": [],
   "source": [
    "def eta(p):\n",
    "    pt = np.sqrt(p[1]**2+p[2]**2)\n",
    "    pz = p[3]\n",
    "    return np.log(abs(np.tan((pt-pz)/(2*(pt+pz)))))"
   ]
  },
  {
   "cell_type": "code",
   "execution_count": 65,
   "metadata": {},
   "outputs": [
    {
     "name": "stdout",
     "output_type": "stream",
     "text": [
      "-11.298435328921588\n",
      "9.004793267916206\n"
     ]
    },
    {
     "name": "stderr",
     "output_type": "stream",
     "text": [
      "Warning in <TFile::Append>: Replacing existing TH1: tt eta (Potential memory leak).\n"
     ]
    },
    {
     "data": {
      "image/png": "[encoded data removed]",
      "text/plain": [
       "<IPython.core.display.Image object>"
      ]
     },
     "metadata": {},
     "output_type": "display_data"
    }
   ],
   "source": [
    "tthisteta = drawhist('tt eta', dataset, [lambda d: (True if d[11] == 1 else False)], lambda d: eta(d))\n",
    "tthisteta.Draw()\n",
    "canvas.Draw()"
   ]
  },
  {
   "cell_type": "code",
   "execution_count": 84,
   "metadata": {},
   "outputs": [
    {
     "data": {
      "image/png": "[encoded data removed]",
      "text/plain": [
       "<IPython.core.display.Image object>"
      ]
     },
     "metadata": {},
     "output_type": "display_data"
    }
   ],
   "source": [
    "pt = ROOT.THStack('all_pt', 'all_pt')\n",
    "pt.Add(tthist,'PADS')\n",
    "pt.Add(gghist,'PADS')\n",
    "pt.Add(WWhist,'PADS')\n",
    "pt.Draw()\n",
    "canvas.Draw()"
   ]
  },
  {
   "cell_type": "code",
   "execution_count": 74,
   "metadata": {},
   "outputs": [
    {
     "name": "stdout",
     "output_type": "stream",
     "text": [
      "<class cppyy.gbl.TH1F at 0x7fbea16cbfb0>\n"
     ]
    }
   ],
   "source": [
    "print(type(WWhist))"
   ]
  },
  {
   "cell_type": "code",
   "execution_count": 78,
   "metadata": {},
   "outputs": [
    {
     "data": {
      "image/png": "[encoded data removed]",
      "text/plain": [
       "<IPython.core.display.Image object>"
      ]
     },
     "metadata": {},
     "output_type": "display_data"
    }
   ],
   "source": [
    "tthist.DrawNormalized()\n",
    "canvas.Draw()"
   ]
  },
  {
   "cell_type": "code",
   "execution_count": null,
   "metadata": {},
   "outputs": [],
   "source": []
  }
 ],
 "metadata": {
  "kernelspec": {
   "display_name": "Python 3 (ipykernel)",
   "language": "python",
   "name": "python3"
  },
  "language_info": {
   "codemirror_mode": {
    "name": "ipython",
    "version": 3
   },
   "file_extension": ".py",
   "mimetype": "text/x-python",
   "name": "python",
   "nbconvert_exporter": "python",
   "pygments_lexer": "ipython3",
   "version": "3.9.7"
  }
 },
 "nbformat": 4,
 "nbformat_minor": 4
}
