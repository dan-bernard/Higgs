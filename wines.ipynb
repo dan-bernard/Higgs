{
 "cells": [
  {
   "cell_type": "code",
   "execution_count": null,
   "id": "3058ec6e",
   "metadata": {},
   "outputs": [],
   "source": [
    "import pandas as pd\n",
    "import tensorflow as tf\n",
    "from tensorflow import keras\n",
    "from tensorflow.keras import layers"
   ]
  },
  {
   "cell_type": "code",
   "execution_count": 2,
   "id": "8af89a0a",
   "metadata": {},
   "outputs": [],
   "source": [
    "import numpy as np\n",
    "import matplotlib.pyplot as plt"
   ]
  },
  {
   "cell_type": "code",
   "execution_count": null,
   "id": "fcc34278",
   "metadata": {},
   "outputs": [],
   "source": [
    "'''listdata = dataframe.values.tolist()\n",
    "\n",
    "inputs = []\n",
    "outputs = []\n",
    "for i in range(len(listdata)):\n",
    "    inputs.append(listdata[i][:len(listdata[i])-1])\n",
    "    #outputs.append([listdata[i][len(listdata[i])-1]])\n",
    "    outputs.append(listdata[i][len(listdata[i])-1])\n",
    "    \n",
    "print(type(inputs[0][0]))\n",
    "#print(outputs)'''"
   ]
  },
  {
   "cell_type": "code",
   "execution_count": 3,
   "id": "9734c5e9",
   "metadata": {},
   "outputs": [],
   "source": [
    "dataframe = pd.read_csv('/Users/dan-ioanbultoc/downloads/winequality-white.csv', sep = ';')\n",
    "\n",
    "listdata = dataframe.values\n",
    "\n",
    "inputs = listdata[:,:-1]\n",
    "listdata[listdata[:,-1] < 6,-1] = 0\n",
    "listdata[listdata[:,-1] >= 6,-1] = 1\n",
    "outputs = listdata[:,-1]\n",
    "\n",
    "mean = inputs.mean(axis = 0)\n",
    "inputs = inputs-mean\n",
    "\n",
    "std = inputs.std(axis = 0)\n",
    "inputs = inputs/std\n",
    "\n",
    "#outputs = outputs[outputs]\n",
    "\n",
    "#meano = outputs.mean(axis = 0)\n",
    "#outputs = outputs-meano\n",
    "\n",
    "#stdo = outputs.std(axis = 0)\n",
    "#outputs = outputs/stdo"
   ]
  },
  {
   "cell_type": "code",
   "execution_count": 9,
   "id": "3647eeec",
   "metadata": {},
   "outputs": [
    {
     "name": "stdout",
     "output_type": "stream",
     "text": [
      "      fixed acidity  volatile acidity  citric acid  residual sugar  chlorides  \\\n",
      "0               7.0              0.27         0.36            20.7      0.045   \n",
      "1               6.3              0.30         0.34             1.6      0.049   \n",
      "2               8.1              0.28         0.40             6.9      0.050   \n",
      "3               7.2              0.23         0.32             8.5      0.058   \n",
      "4               7.2              0.23         0.32             8.5      0.058   \n",
      "...             ...               ...          ...             ...        ...   \n",
      "4893            6.2              0.21         0.29             1.6      0.039   \n",
      "4894            6.6              0.32         0.36             8.0      0.047   \n",
      "4895            6.5              0.24         0.19             1.2      0.041   \n",
      "4896            5.5              0.29         0.30             1.1      0.022   \n",
      "4897            6.0              0.21         0.38             0.8      0.020   \n",
      "\n",
      "      free sulfur dioxide  total sulfur dioxide  density    pH  sulphates  \\\n",
      "0                    45.0                 170.0  1.00100  3.00       0.45   \n",
      "1                    14.0                 132.0  0.99400  3.30       0.49   \n",
      "2                    30.0                  97.0  0.99510  3.26       0.44   \n",
      "3                    47.0                 186.0  0.99560  3.19       0.40   \n",
      "4                    47.0                 186.0  0.99560  3.19       0.40   \n",
      "...                   ...                   ...      ...   ...        ...   \n",
      "4893                 24.0                  92.0  0.99114  3.27       0.50   \n",
      "4894                 57.0                 168.0  0.99490  3.15       0.46   \n",
      "4895                 30.0                 111.0  0.99254  2.99       0.46   \n",
      "4896                 20.0                 110.0  0.98869  3.34       0.38   \n",
      "4897                 22.0                  98.0  0.98941  3.26       0.32   \n",
      "\n",
      "      alcohol  quality  \n",
      "0         8.8        6  \n",
      "1         9.5        6  \n",
      "2        10.1        6  \n",
      "3         9.9        6  \n",
      "4         9.9        6  \n",
      "...       ...      ...  \n",
      "4893     11.2        6  \n",
      "4894      9.6        5  \n",
      "4895      9.4        6  \n",
      "4896     12.8        7  \n",
      "4897     11.8        6  \n",
      "\n",
      "[4898 rows x 12 columns]\n"
     ]
    }
   ],
   "source": [
    "print(dataframe)"
   ]
  },
  {
   "cell_type": "code",
   "execution_count": null,
   "id": "fd61992e",
   "metadata": {},
   "outputs": [],
   "source": [
    "print(outputs)"
   ]
  },
  {
   "cell_type": "code",
   "execution_count": 4,
   "id": "e0a9a99b",
   "metadata": {},
   "outputs": [],
   "source": [
    "train = inputs[:1000, :]\n",
    "test = inputs[1000:, :]\n",
    "\n",
    "traino = outputs[:1000]\n",
    "testo = outputs[1000:]"
   ]
  },
  {
   "cell_type": "code",
   "execution_count": 12,
   "id": "2b6b337a",
   "metadata": {},
   "outputs": [
    {
     "data": {
      "image/png": "[encoded data removed]",
      "text/plain": [
       "<Figure size 432x288 with 1 Axes>"
      ]
     },
     "metadata": {
      "needs_background": "light"
     },
     "output_type": "display_data"
    }
   ],
   "source": [
    "tf.keras.backend.clear_session()\n",
    "\n",
    "inp = layers.Dense(units = 5, input_dim = len(inputs[0,:]), activation = 'relu')\n",
    "layer1 = layers.Dense(units = 5, activation = 'relu')\n",
    "layer2 = layers.Dense(units = 5, activation = 'relu')\n",
    "out = layers.Dense(units = 1, activation = 'sigmoid')\n",
    "\n",
    "model = keras.Sequential([inp, layer1, layer2, out])\n",
    "\n",
    "model.compile(optimizer = keras.optimizers.SGD(0.0001), loss = 'binary_crossentropy')\n",
    "\n",
    "history = model.fit(x=train, y=traino, epochs = 2000 , verbose = False)\n",
    "plt.plot(history.history['loss'])\n",
    "plt.show()"
   ]
  },
  {
   "cell_type": "code",
   "execution_count": 13,
   "id": "b946f76f",
   "metadata": {},
   "outputs": [
    {
     "name": "stdout",
     "output_type": "stream",
     "text": [
      "0.975\n",
      "0.956644433042586\n"
     ]
    }
   ],
   "source": [
    "def eff(Inputs, Outputs):\n",
    "    predictions = model.predict(Inputs)\n",
    "\n",
    "    predictions[predictions[:,-1] < 0.5,-1] = 0\n",
    "    predictions[predictions[:,-1] >= 0.5,-1] = 1\n",
    "    diff = abs(predictions - Outputs)\n",
    "    eff = sum(diff)[0]/len(diff)\n",
    "    return 1-eff\n",
    "\n",
    "print(eff(train, traino))\n",
    "print(eff(test, testo))"
   ]
  },
  {
   "cell_type": "code",
   "execution_count": 11,
   "id": "d930d541",
   "metadata": {},
   "outputs": [
    {
     "data": {
      "text/plain": [
       "array([[0.6078216 ],\n",
       "       [0.54112434],\n",
       "       [0.54580826],\n",
       "       ...,\n",
       "       [0.671943  ],\n",
       "       [0.758886  ],\n",
       "       [0.7649231 ]], dtype=float32)"
      ]
     },
     "execution_count": 11,
     "metadata": {},
     "output_type": "execute_result"
    }
   ],
   "source": [
    "model.predict([test])"
   ]
  },
  {
   "cell_type": "code",
   "execution_count": null,
   "id": "e5b87b4e",
   "metadata": {},
   "outputs": [],
   "source": [
    "print(testo)"
   ]
  },
  {
   "cell_type": "code",
   "execution_count": null,
   "id": "9f3793d5",
   "metadata": {},
   "outputs": [],
   "source": [
    "print(type(history))"
   ]
  },
  {
   "cell_type": "code",
   "execution_count": 10,
   "id": "bf0a405f",
   "metadata": {},
   "outputs": [
    {
     "data": {
      "text/plain": [
       "0.6651694569211923"
      ]
     },
     "execution_count": 10,
     "metadata": {},
     "output_type": "execute_result"
    }
   ],
   "source": [
    "sum(outputs)/len(outputs)"
   ]
  },
  {
   "cell_type": "code",
   "execution_count": null,
   "id": "da640e92",
   "metadata": {},
   "outputs": [],
   "source": []
  }
 ],
 "metadata": {
  "kernelspec": {
   "display_name": "Python 3 (ipykernel)",
   "language": "python",
   "name": "python3"
  },
  "language_info": {
   "codemirror_mode": {
    "name": "ipython",
    "version": 3
   },
   "file_extension": ".py",
   "mimetype": "text/x-python",
   "name": "python",
   "nbconvert_exporter": "python",
   "pygments_lexer": "ipython3",
   "version": "3.9.7"
  }
 },
 "nbformat": 4,
 "nbformat_minor": 5
}
