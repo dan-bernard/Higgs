{
 "cells": [
  {
   "cell_type": "code",
   "execution_count": 1,
   "id": "a5e3d7b2",
   "metadata": {},
   "outputs": [
    {
     "name": "stdout",
     "output_type": "stream",
     "text": [
      "Welcome to JupyROOT 6.26/02\n"
     ]
    }
   ],
   "source": [
    "import ROOT\n",
    "from ROOT import TMath\n",
    "import random\n",
    "import numpy as np\n",
    "import matplotlib.pyplot as plt\n",
    "import tensorflow as tf\n",
    "from tensorflow import keras\n",
    "from keras import layers\n",
    "import os"
   ]
  },
  {
   "cell_type": "code",
   "execution_count": 2,
   "id": "0fd4a4a3",
   "metadata": {},
   "outputs": [
    {
     "name": "stdout",
     "output_type": "stream",
     "text": [
      "Channel: data4 has 3602176 entries\n",
      "Processing Channel  data4\n"
     ]
    }
   ],
   "source": [
    "\n",
    "'''Importing the data from the ROOT files'''\n",
    "\n",
    "data4 = ROOT.TFile.Open(\"data_D.GamGam.root\")\n",
    "\n",
    "Channels = {'data4':data4.Get('mini')}\n",
    "\n",
    "for channel in Channels:\n",
    "    print(\"Channel:\",channel,\"has\",Channels[channel].GetEntries(),\"entries\")\n",
    "\n",
    "OutputMap = {\"ttH\":[1,0,0,0],\"ggH\":[0,1,0,0],\"WWH\":[0,0,1,0], \n",
    "             'data1':[0,0,0,1], 'data2':[0,0,0,1], 'data3':[0,0,0,1], 'data4':[0,0,0,1]}\n",
    "\n",
    "# Here we shall store the two photons & outputs \n",
    "dataset = []\n",
    "dataset2 = []\n",
    "\n",
    "# Prepare Data for NN\n",
    "# Events are not filtered by LLT or HLT\n",
    "\n",
    "for channel in Channels:\n",
    "    print(\"Processing Channel \",channel)\n",
    "    Channel = Channels[channel]\n",
    "    counter = 0\n",
    "    for event in Channel:\n",
    "        #if (not event.trigP):\n",
    "            #continue\n",
    "        if counter > 200000:\n",
    "            break\n",
    "        Photons = []\n",
    "        if Channel.photon_n != 2:\n",
    "            continue\n",
    "        for j in range(Channel.photon_n):\n",
    "            Momentum = ROOT.TLorentzVector()\n",
    "            Momentum.SetPtEtaPhiE(Channel.photon_pt[j]/1000., Channel.photon_eta[j],Channel.photon_phi[j],Channel.photon_E[j]/1000.)\n",
    "            Photons.append(Momentum)\n",
    "        Photons.sort(key = lambda p : -p.E())#sorts by energy most energetic goes first\n",
    "        data = []\n",
    "        data2 = []\n",
    "        data2.append(np.sqrt(2*(Photons[0].E()*Photons[1].E()-Photons[0].Px()*Photons[1].Px()-Photons[0].Py()*Photons[1].Py()-Photons[0].Pz()*Photons[1].Pz())))\n",
    "        for i in range(len(Photons)):\n",
    "            #momentum of the photons go into nn\n",
    "            data.append(Photons[i].E() )\n",
    "            data.append(Photons[i].Px())\n",
    "            data.append(Photons[i].Py())\n",
    "            data.append(Photons[i].Pz())\n",
    "            data2.append(Photons[i].Px())\n",
    "            data2.append(Photons[i].Py())\n",
    "            data2.append(Photons[i].Pz())\n",
    "        for vec in OutputMap[channel]:\n",
    "            data.append(vec)\n",
    "            data2.append(vec)\n",
    "        dataset.append(data)\n",
    "        dataset2.append(data2)\n",
    "        counter += 1\n",
    "        \n",
    "        \n",
    "random.shuffle(dataset)\n",
    "dataset = np.asarray(dataset)\n",
    "\n",
    "random.shuffle(dataset2)\n",
    "dataset2 = np.asarray(dataset2)"
   ]
  },
  {
   "cell_type": "code",
   "execution_count": 46,
   "id": "5f086f23",
   "metadata": {},
   "outputs": [
    {
     "name": "stdout",
     "output_type": "stream",
     "text": [
      "Channel: ttH has 576491 entries\n",
      "Channel: ggH has 1054711 entries\n",
      "Channel: WWH has 497468 entries\n",
      "Channel: data1 has 430344 entries\n",
      "Channel: data3 has 2237187 entries\n",
      "Channel: data4 has 3602176 entries\n",
      "Processing Channel  ttH\n",
      "Processing Channel  ggH\n",
      "Processing Channel  WWH\n",
      "Processing Channel  data1\n",
      "Processing Channel  data3\n",
      "Processing Channel  data4\n"
     ]
    }
   ],
   "source": [
    "'''Importing the data from the ROOT files'''\n",
    "\n",
    "ttH = ROOT.TFile.Open(\"mc_341081.ttH125_gamgam.GamGam.root\")\n",
    "ggH = ROOT.TFile.Open(\"mc_343981.ggH125_gamgam.GamGam.root\")\n",
    "WWH = ROOT.TFile.Open(\"mc_345041.VBFH125_gamgam.GamGam.root\")\n",
    "data1 = ROOT.TFile.Open(\"data_A.GamGam.root\")\n",
    "data3 = ROOT.TFile.Open(\"data_C.GamGam.root\")\n",
    "data4 = ROOT.TFile.Open(\"data_D.GamGam.root\")\n",
    "\n",
    "Channels2 = {\"ttH\":ttH.Get(\"mini\"),\n",
    "            \"ggH\":ggH.Get(\"mini\"),\n",
    "            \"WWH\":WWH.Get(\"mini\"), \n",
    "            'data1':data1.Get('mini'), \n",
    "            'data3':data3.Get('mini'),\n",
    "            'data4':data4.Get('mini')\n",
    "           }\n",
    "\n",
    "for channel in Channels2:\n",
    "    print(\"Channel:\",channel,\"has\",Channels2[channel].GetEntries(),\"entries\")\n",
    "\n",
    "OutputMap = {\"ttH\":[1,0,0,0],\"ggH\":[0,1,0,0],\"WWH\":[0,0,1,0], \n",
    "             'data1':[0,0,0,1], 'data2':[0,0,0,1], 'data3':[0,0,0,1], 'data4':[0,0,0,1]}\n",
    "\n",
    "# Here we shall store the two photons & outputs \n",
    "new_dataset = []\n",
    "new_dataset2 = []\n",
    "\n",
    "# Prepare Data for NN\n",
    "# Events are not filtered by LLT or HLT\n",
    "\n",
    "for channel in Channels2:\n",
    "    print(\"Processing Channel \",channel)\n",
    "    Channel = Channels2[channel]\n",
    "    counter = 0\n",
    "    for event in Channel:\n",
    "        #if (not event.trigP):\n",
    "            #continue\n",
    "        if counter > 200000:\n",
    "            break\n",
    "        Photons = []\n",
    "        if Channel.photon_n != 2:\n",
    "            continue\n",
    "        for j in range(Channel.photon_n):\n",
    "            Momentum = ROOT.TLorentzVector()\n",
    "            Momentum.SetPtEtaPhiE(Channel.photon_pt[j]/1000., Channel.photon_eta[j],Channel.photon_phi[j],Channel.photon_E[j]/1000.)\n",
    "            Photons.append(Momentum)\n",
    "        Photons.sort(key = lambda p : -p.E())#sorts by energy most energetic goes first\n",
    "        data = []\n",
    "        data2 = []\n",
    "        data2.append(np.sqrt(2*(Photons[0].E()*Photons[1].E()-Photons[0].Px()*Photons[1].Px()-Photons[0].Py()*Photons[1].Py()-Photons[0].Pz()*Photons[1].Pz())))\n",
    "        for i in range(len(Photons)):\n",
    "            #momentum of the photons go into nn\n",
    "            data.append(Photons[i].E() )\n",
    "            data.append(Photons[i].Px())\n",
    "            data.append(Photons[i].Py())\n",
    "            data.append(Photons[i].Pz())\n",
    "            data2.append(Photons[i].Px())\n",
    "            data2.append(Photons[i].Py())\n",
    "            data2.append(Photons[i].Pz())\n",
    "        for vec in OutputMap[channel]:\n",
    "            data.append(vec)\n",
    "            data2.append(vec)\n",
    "        new_dataset.append(data)\n",
    "        new_dataset2.append(data2)\n",
    "        counter += 1\n",
    "        \n",
    "        \n",
    "random.shuffle(new_dataset)\n",
    "new_dataset = np.asarray(new_dataset)\n",
    "\n",
    "random.shuffle(new_dataset2)\n",
    "new_dataset2 = np.asarray(new_dataset2)"
   ]
  },
  {
   "cell_type": "code",
   "execution_count": 31,
   "id": "134f17bc",
   "metadata": {},
   "outputs": [],
   "source": [
    "def create_proc_model():\n",
    "    ilayer = layers.Dense(units = 7, input_dim = len(dataset2[0,:-4]), activation=\"relu\")\n",
    "    layer1 = layers.Dense(units = 8, activation=\"relu\")\n",
    "    layer2 = layers.Dense(units = 9, activation=\"relu\")\n",
    "    olayer = layers.Dense(units = 4, activation = \"sigmoid\")\n",
    "\n",
    "    Model = keras.Sequential([ilayer,layer1,layer2,olayer])\n",
    "    \n",
    "    Model.compile(\n",
    "    optimizer = keras.optimizers.SGD(0.001),\n",
    "    loss=\"binary_crossentropy\"\n",
    "    )\n",
    "    \n",
    "    return Model"
   ]
  },
  {
   "cell_type": "code",
   "execution_count": 32,
   "id": "aa8a364c",
   "metadata": {},
   "outputs": [],
   "source": [
    "def create_nonproc_model():\n",
    "    ilayer = layers.Dense(units = 7, input_dim = len(dataset[0,:-4]), activation=\"relu\")\n",
    "    layer1 = layers.Dense(units = 8, activation=\"relu\")\n",
    "    layer2 = layers.Dense(units = 9, activation=\"relu\")\n",
    "    olayer = layers.Dense(units = 4, activation = \"sigmoid\")\n",
    "\n",
    "    Model = keras.Sequential([ilayer,layer1,layer2,olayer])\n",
    "    \n",
    "    Model.compile(\n",
    "    optimizer = keras.optimizers.SGD(0.001),\n",
    "    loss=\"binary_crossentropy\"\n",
    "    )\n",
    "    \n",
    "    return Model"
   ]
  },
  {
   "cell_type": "code",
   "execution_count": 34,
   "id": "646517c6",
   "metadata": {},
   "outputs": [
    {
     "data": {
      "text/plain": [
       "<tensorflow.python.training.tracking.util.CheckpointLoadStatus at 0x7fd6910d1940>"
      ]
     },
     "execution_count": 34,
     "metadata": {},
     "output_type": "execute_result"
    }
   ],
   "source": [
    "modelfolder = '/Users/dan-ioanbultoc/Desktop/EE/non-processed_weights/'\n",
    "nonproc_model = create_nonproc_model()\n",
    "nonproc_model.load_weights(modelfolder)\n",
    "\n",
    "modelfolder2 = '/Users/dan-ioanbultoc/Desktop/EE/processed_weights/'\n",
    "proc_model = create_proc_model()\n",
    "proc_model.load_weights(modelfolder2)"
   ]
  },
  {
   "cell_type": "code",
   "execution_count": 41,
   "id": "707c31a0",
   "metadata": {},
   "outputs": [],
   "source": [
    "x = dataset[:,:-4]\n",
    "y = dataset2[:,:-4]\n",
    "\n",
    "nonproc = nonproc_model.predict(x)\n",
    "proc = proc_model.predict(y)"
   ]
  },
  {
   "cell_type": "code",
   "execution_count": 47,
   "id": "560bfebb",
   "metadata": {},
   "outputs": [],
   "source": [
    "a = new_dataset[:,:-4]\n",
    "b = new_dataset2[:,:-4]\n",
    "\n",
    "new_nonproc = nonproc_model.predict(a)\n",
    "new_proc = proc_model.predict(b)"
   ]
  },
  {
   "cell_type": "code",
   "execution_count": 50,
   "id": "af4b4e34",
   "metadata": {},
   "outputs": [
    {
     "name": "stdout",
     "output_type": "stream",
     "text": [
      "[0.06183913 0.02443975 0.06537494 0.8702694 ]\n",
      "[0. 0. 0. 1.]\n"
     ]
    }
   ],
   "source": [
    "a_answer = new_dataset[:,-4:]\n",
    "b_answer = new_dataset2[:,-4:]\n",
    "\n",
    "print(new_nonproc[0])\n",
    "print(a_answer[0])"
   ]
  },
  {
   "cell_type": "code",
   "execution_count": 18,
   "id": "c0d24db7",
   "metadata": {},
   "outputs": [],
   "source": [
    "def prob(arr):\n",
    "    return (arr[0] + arr[1] + arr[2])/sum(arr)"
   ]
  },
  {
   "cell_type": "code",
   "execution_count": 22,
   "id": "2007a13c",
   "metadata": {
    "scrolled": true
   },
   "outputs": [
    {
     "name": "stdout",
     "output_type": "stream",
     "text": [
      "0.9985697144218834\n"
     ]
    }
   ],
   "source": [
    "print(nonproc[0][3]+prob(nonproc[0]))"
   ]
  },
  {
   "cell_type": "code",
   "execution_count": 38,
   "id": "2f0c303d",
   "metadata": {},
   "outputs": [
    {
     "data": {
      "image/png": "[encoded data removed]",
      "text/plain": [
       "<Figure size 432x288 with 1 Axes>"
      ]
     },
     "metadata": {
      "needs_background": "light"
     },
     "output_type": "display_data"
    }
   ],
   "source": [
    "proc_values = []\n",
    "\n",
    "for i in range(len(proc)):\n",
    "    proc_values.append(prob(proc[i]))\n",
    "\n",
    "plt.clf()\n",
    "plt.title('processed')\n",
    "plt.hist(proc_values, density = True)\n",
    "plt.show()"
   ]
  },
  {
   "cell_type": "code",
   "execution_count": 61,
   "id": "e51a0514",
   "metadata": {},
   "outputs": [
    {
     "data": {
      "image/png": "[encoded data removed]",
      "text/plain": [
       "<Figure size 432x288 with 1 Axes>"
      ]
     },
     "metadata": {
      "needs_background": "light"
     },
     "output_type": "display_data"
    }
   ],
   "source": [
    "nonproc_values = []\n",
    "\n",
    "for i in range(len(nonproc)):\n",
    "    nonproc_values.append(prob(nonproc[i]))\n",
    "\n",
    "plt.clf()\n",
    "plt.title('non-processed')\n",
    "plt.xlabel('certainty')\n",
    "plt.ylabel('rate')\n",
    "plt.hist(nonproc_values, density = True)\n",
    "plt.show()"
   ]
  },
  {
   "cell_type": "code",
   "execution_count": 62,
   "id": "1cd62d31",
   "metadata": {},
   "outputs": [],
   "source": [
    "def rate(certainty, prediction):\n",
    "    rates = []\n",
    "    for i in range(len(certainty)):\n",
    "        var = 0\n",
    "        for j in range(len(prediction)):\n",
    "            if prob(prediction[j]) > certainty[i]:\n",
    "                var += 1\n",
    "            \n",
    "        var /= len(prediction)\n",
    "        rates.append(var)\n",
    "    return rates"
   ]
  },
  {
   "cell_type": "code",
   "execution_count": null,
   "id": "db6aebef",
   "metadata": {},
   "outputs": [],
   "source": [
    "non-training\n",
    "pre-training2"
   ]
  },
  {
   "cell_type": "code",
   "execution_count": 51,
   "id": "ba501c4f",
   "metadata": {},
   "outputs": [],
   "source": [
    "certainty = [0.05*i for i in range(1,20)]\n",
    "eff = []\n",
    "\n",
    "for i in range(len(certainty)):\n",
    "    efficiency = 0\n",
    "    for j in range(len(new_nonproc)):\n",
    "        if prob(new_nonproc[j]) > certainty[i] and a_answer[j][-1] == 0:\n",
    "            efficiency += 1\n",
    "            \n",
    "        if prob(new_nonproc[j]) < certainty[i] and a_answer[j][-1] == 1:\n",
    "            efficiency += 1\n",
    "                  \n",
    "    efficiency /= len(new_nonproc)\n",
    "    eff.append(efficiency)"
   ]
  },
  {
   "cell_type": "code",
   "execution_count": 70,
   "id": "44b3cbfc",
   "metadata": {},
   "outputs": [],
   "source": [
    "certainty = [0.05*i for i in range(1,21)]\n",
    "\n",
    "def compute_eff(certainty, prediction, answer, title):\n",
    "    \n",
    "    eff = []\n",
    "    \n",
    "    for i in range(len(certainty)):\n",
    "        print(certainty[i])\n",
    "        efficiency = 0\n",
    "        for j in range(len(prediction)):\n",
    "            if prob(prediction[j]) > certainty[i] and answer[j][-1] == 0:\n",
    "                efficiency += 1\n",
    "\n",
    "            if prob(prediction[j]) < certainty[i] and answer[j][-1] == 1:\n",
    "                efficiency += 1\n",
    "\n",
    "        efficiency /= len(prediction)\n",
    "        eff.append(efficiency)\n",
    "        \n",
    "    plt.clf()\n",
    "    plt.plot(certainty, eff)\n",
    "    plt.title(title)\n",
    "    plt.xlabel('certainty')\n",
    "    plt.ylabel('efficiency')\n",
    "    plt.show()\n",
    "    \n",
    "    return eff"
   ]
  },
  {
   "cell_type": "code",
   "execution_count": 71,
   "id": "5de246ed",
   "metadata": {},
   "outputs": [
    {
     "name": "stdout",
     "output_type": "stream",
     "text": [
      "0.05\n",
      "0.1\n",
      "0.15000000000000002\n",
      "0.2\n",
      "0.25\n",
      "0.30000000000000004\n",
      "0.35000000000000003\n",
      "0.4\n",
      "0.45\n",
      "0.5\n",
      "0.55\n",
      "0.6000000000000001\n",
      "0.65\n",
      "0.7000000000000001\n",
      "0.75\n",
      "0.8\n",
      "0.8500000000000001\n",
      "0.9\n",
      "0.9500000000000001\n"
     ]
    },
    {
     "data": {
      "image/png": "[encoded data removed]",
      "text/plain": [
       "<Figure size 432x288 with 1 Axes>"
      ]
     },
     "metadata": {
      "needs_background": "light"
     },
     "output_type": "display_data"
    },
    {
     "name": "stdout",
     "output_type": "stream",
     "text": [
      "0.05\n",
      "0.1\n",
      "0.15000000000000002\n",
      "0.2\n",
      "0.25\n",
      "0.30000000000000004\n",
      "0.35000000000000003\n",
      "0.4\n",
      "0.45\n",
      "0.5\n",
      "0.55\n",
      "0.6000000000000001\n",
      "0.65\n",
      "0.7000000000000001\n",
      "0.75\n",
      "0.8\n",
      "0.8500000000000001\n",
      "0.9\n",
      "0.9500000000000001\n"
     ]
    },
    {
     "data": {
      "image/png": "[encoded data removed]",
      "text/plain": [
       "<Figure size 432x288 with 1 Axes>"
      ]
     },
     "metadata": {
      "needs_background": "light"
     },
     "output_type": "display_data"
    }
   ],
   "source": [
    "nonproc_eff = compute_eff(certainty, new_nonproc, a_answer, 'non_proc')\n",
    "proc_eff = compute_eff(certainty, new_nonproc, a_answer, 'proc')"
   ]
  },
  {
   "cell_type": "code",
   "execution_count": 59,
   "id": "9f6ef755",
   "metadata": {},
   "outputs": [
    {
     "data": {
      "image/png": "[encoded data removed]",
      "text/plain": [
       "<Figure size 432x288 with 1 Axes>"
      ]
     },
     "metadata": {
      "needs_background": "light"
     },
     "output_type": "display_data"
    }
   ],
   "source": [
    "plt.clf()\n",
    "plt.plot(certainty, eff)\n",
    "plt.xlabel('certainty')\n",
    "plt.ylabel('efficiency')\n",
    "plt.show()"
   ]
  },
  {
   "cell_type": "code",
   "execution_count": 74,
   "id": "2dfc5ef6",
   "metadata": {},
   "outputs": [],
   "source": [
    "nonproc_rate = rate(certainty, nonproc)\n",
    "proc_rate = rate(certainty, proc)"
   ]
  },
  {
   "cell_type": "code",
   "execution_count": 76,
   "id": "7e063993",
   "metadata": {},
   "outputs": [
    {
     "data": {
      "image/png": "[encoded data removed]",
      "text/plain": [
       "<Figure size 432x288 with 1 Axes>"
      ]
     },
     "metadata": {
      "needs_background": "light"
     },
     "output_type": "display_data"
    },
    {
     "data": {
      "image/png": "[encoded data removed]",
      "text/plain": [
       "<Figure size 432x288 with 1 Axes>"
      ]
     },
     "metadata": {
      "needs_background": "light"
     },
     "output_type": "display_data"
    }
   ],
   "source": [
    "plt.clf()\n",
    "plt.plot(certainty, proc_rate)\n",
    "plt.title('proc')\n",
    "plt.show()\n",
    "\n",
    "plt.clf()\n",
    "plt.title('nonproc')\n",
    "plt.plot(certainty, nonproc_rate)\n",
    "plt.show()"
   ]
  },
  {
   "cell_type": "code",
   "execution_count": 75,
   "id": "c1523f7b",
   "metadata": {},
   "outputs": [
    {
     "data": {
      "image/png": "[encoded data removed]",
      "text/plain": [
       "<Figure size 432x288 with 1 Axes>"
      ]
     },
     "metadata": {
      "needs_background": "light"
     },
     "output_type": "display_data"
    },
    {
     "data": {
      "image/png": "[encoded data removed]",
      "text/plain": [
       "<Figure size 432x288 with 1 Axes>"
      ]
     },
     "metadata": {
      "needs_background": "light"
     },
     "output_type": "display_data"
    }
   ],
   "source": [
    "non_proc_flux = [nonproc_rate[i]*eff[i] for i in range(len(certainty))]\n",
    "proc_flux = [proc_rate[i]* eff[i] for i in range(len(certainty))]\n",
    "\n",
    "plt.clf()\n",
    "plt.plot(certainty, non_proc_flux)\n",
    "plt.title('non proc flux')\n",
    "plt.show()\n",
    "\n",
    "plt.clf()\n",
    "plt.plot(certainty, proc_flux)\n",
    "plt.title('proc flux')\n",
    "plt.show()"
   ]
  }
 ],
 "metadata": {
  "kernelspec": {
   "display_name": "Python 3 (ipykernel)",
   "language": "python",
   "name": "python3"
  },
  "language_info": {
   "codemirror_mode": {
    "name": "ipython",
    "version": 3
   },
   "file_extension": ".py",
   "mimetype": "text/x-python",
   "name": "python",
   "nbconvert_exporter": "python",
   "pygments_lexer": "ipython3",
   "version": "3.9.7"
  }
 },
 "nbformat": 4,
 "nbformat_minor": 5
}
