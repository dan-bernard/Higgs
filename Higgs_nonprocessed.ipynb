{
 "cells": [
  {
   "cell_type": "code",
   "execution_count": 1,
   "metadata": {},
   "outputs": [
    {
     "name": "stdout",
     "output_type": "stream",
     "text": [
      "Welcome to JupyROOT 6.26/02\n"
     ]
    }
   ],
   "source": [
    "import ROOT\n",
    "from ROOT import TMath\n",
    "import random\n",
    "import numpy as np\n",
    "import matplotlib.pyplot as plt\n",
    "import tensorflow as tf\n",
    "from tensorflow import keras\n",
    "from keras import layers"
   ]
  },
  {
   "cell_type": "code",
   "execution_count": 104,
   "metadata": {},
   "outputs": [],
   "source": [
    "import os,sys"
   ]
  },
  {
   "cell_type": "code",
   "execution_count": 102,
   "metadata": {
    "scrolled": true
   },
   "outputs": [
    {
     "name": "stdout",
     "output_type": "stream",
     "text": [
      "Channel: ttH has 576491 entries\n",
      "Channel: ggH has 1054711 entries\n",
      "Channel: WWH has 497468 entries\n",
      "Channel: data1 has 430344 entries\n",
      "Channel: data2 has 1528717 entries\n",
      "Channel: data3 has 2237187 entries\n",
      "Channel: data4 has 3602176 entries\n",
      "Processing Channel  ttH\n",
      "Processing Channel  ggH\n",
      "Processing Channel  WWH\n",
      "Processing Channel  data1\n",
      "Processing Channel  data2\n",
      "Processing Channel  data3\n",
      "Processing Channel  data4\n"
     ]
    }
   ],
   "source": [
    "\n",
    "'''Importing the data from the ROOT files'''\n",
    "\n",
    "ttH = ROOT.TFile.Open(\"mc_341081.ttH125_gamgam.GamGam.root\")\n",
    "ggH = ROOT.TFile.Open(\"mc_343981.ggH125_gamgam.GamGam.root\")\n",
    "WWH = ROOT.TFile.Open(\"mc_345041.VBFH125_gamgam.GamGam.root\")\n",
    "data1 = ROOT.TFile.Open(\"data_A.GamGam.root\")\n",
    "data2 = ROOT.TFile.Open(\"data_B.GamGam.root\")\n",
    "data3 = ROOT.TFile.Open(\"data_C.GamGam.root\")\n",
    "data4 = ROOT.TFile.Open(\"data_D.GamGam.root\")\n",
    "\n",
    "Channels = {\"ttH\":ttH.Get(\"mini\"),\n",
    "            \"ggH\":ggH.Get(\"mini\"),\n",
    "            \"WWH\":WWH.Get(\"mini\"), \n",
    "            'data1':data1.Get('mini'), \n",
    "            'data2':data2.Get('mini'),\n",
    "            'data3':data3.Get('mini'),\n",
    "            'data4':data4.Get('mini')\n",
    "           }\n",
    "\n",
    "for channel in Channels:\n",
    "    print(\"Channel:\",channel,\"has\",Channels[channel].GetEntries(),\"entries\")\n",
    "\n",
    "OutputMap = {\"ttH\":[1,0,0,0],\"ggH\":[0,1,0,0],\"WWH\":[0,0,1,0], \n",
    "             'data1':[0,0,0,1], 'data2':[0,0,0,1], 'data3':[0,0,0,1], 'data4':[0,0,0,1]}\n",
    "\n",
    "# Here we shall store the two photons & outputs \n",
    "dataset = []\n",
    "\n",
    "# Prepare Data for NN\n",
    "# Events are not filtered by LLT or HLT\n",
    "\n",
    "for channel in Channels:\n",
    "    print(\"Processing Channel \",channel)\n",
    "    Channel = Channels[channel]\n",
    "    counter = 0\n",
    "    for event in Channel:\n",
    "        #if (not event.trigP):\n",
    "            #continue\n",
    "        if counter > 50000:\n",
    "            break\n",
    "        Photons = []\n",
    "        if Channel.photon_n != 2:\n",
    "            continue\n",
    "        for j in range(Channel.photon_n):\n",
    "            Momentum = ROOT.TLorentzVector()\n",
    "            Momentum.SetPtEtaPhiE(Channel.photon_pt[j]/1000., Channel.photon_eta[j],Channel.photon_phi[j],Channel.photon_E[j]/1000.)\n",
    "            Photons.append(Momentum)\n",
    "        Photons.sort(key = lambda p : -p.E())#sorts by energy most energetic goes first\n",
    "        data = []\n",
    "        for i in range(len(Photons)):\n",
    "            #momentum of the photons go into nn\n",
    "            data.append(Photons[i].E() )\n",
    "            data.append(Photons[i].Px())\n",
    "            data.append(Photons[i].Py())\n",
    "            data.append(Photons[i].Pz())\n",
    "        for vec in OutputMap[channel]:\n",
    "            data.append(vec)\n",
    "        dataset.append(data)\n",
    "        counter += 1\n",
    "        \n",
    "        \n",
    "random.shuffle(dataset)\n",
    "dataset = np.asarray(dataset)"
   ]
  },
  {
   "cell_type": "code",
   "execution_count": 131,
   "metadata": {},
   "outputs": [],
   "source": [
    "from tempfile import TemporaryFile"
   ]
  },
  {
   "cell_type": "code",
   "execution_count": 137,
   "metadata": {},
   "outputs": [],
   "source": [
    "file = open('data.npy', 'w')\n",
    "np.savetxt('data.csv', data, delimiter=',')"
   ]
  },
  {
   "cell_type": "code",
   "execution_count": 138,
   "metadata": {},
   "outputs": [],
   "source": [
    "dataset.tofile('data')"
   ]
  },
  {
   "cell_type": "code",
   "execution_count": 141,
   "metadata": {},
   "outputs": [],
   "source": [
    "np.savetxt('data.csv', dataset, delimiter=',')"
   ]
  },
  {
   "cell_type": "code",
   "execution_count": 134,
   "metadata": {},
   "outputs": [
    {
     "name": "stdout",
     "output_type": "stream",
     "text": [
      "<class 'numpy.ndarray'>\n"
     ]
    }
   ],
   "source": [
    "print(type(dataset))"
   ]
  },
  {
   "cell_type": "code",
   "execution_count": 4,
   "metadata": {},
   "outputs": [
    {
     "data": {
      "text/plain": [
       "8"
      ]
     },
     "execution_count": 4,
     "metadata": {},
     "output_type": "execute_result"
    }
   ],
   "source": [
    "len(dataset[0,:-7])"
   ]
  },
  {
   "cell_type": "code",
   "execution_count": 142,
   "metadata": {},
   "outputs": [],
   "source": [
    "def createmodel():\n",
    "    ilayer = layers.Dense(units = 7, input_dim = len(dataset[0,:-4]), activation=\"relu\")\n",
    "    layer1 = layers.Dense(units = 8, activation=\"relu\")\n",
    "    layer2 = layers.Dense(units = 9, activation=\"relu\")\n",
    "    olayer = layers.Dense(units = 4, activation = \"sigmoid\")\n",
    "\n",
    "    Model = keras.Sequential([ilayer,layer1,layer2,olayer])\n",
    "    \n",
    "    Model.compile(\n",
    "    optimizer = keras.optimizers.SGD(0.001),\n",
    "    loss=\"binary_crossentropy\"\n",
    "    )\n",
    "    \n",
    "    return Model"
   ]
  },
  {
   "cell_type": "code",
   "execution_count": 149,
   "metadata": {},
   "outputs": [
    {
     "name": "stdout",
     "output_type": "stream",
     "text": [
      "Epoch 1/100\n",
      "3829/3829 [==============================] - 7s 2ms/step - loss: 0.6176\n",
      "Epoch 2/100\n",
      "3829/3829 [==============================] - 7s 2ms/step - loss: 0.5375\n",
      "Epoch 3/100\n",
      "3829/3829 [==============================] - 5s 1ms/step - loss: 0.5189\n",
      "Epoch 4/100\n",
      "3829/3829 [==============================] - 6s 2ms/step - loss: 0.5079\n",
      "Epoch 5/100\n",
      "3829/3829 [==============================] - 5s 1ms/step - loss: 0.5003\n",
      "Epoch 6/100\n",
      "3829/3829 [==============================] - 6s 2ms/step - loss: 0.4944\n",
      "Epoch 7/100\n",
      "3829/3829 [==============================] - 7s 2ms/step - loss: 0.4893\n",
      "Epoch 8/100\n",
      "3829/3829 [==============================] - 7s 2ms/step - loss: 0.4847\n",
      "Epoch 9/100\n",
      "3829/3829 [==============================] - 6s 2ms/step - loss: 0.4806\n",
      "Epoch 10/100\n",
      "3829/3829 [==============================] - 7s 2ms/step - loss: 0.4767\n",
      "Epoch 11/100\n",
      "3829/3829 [==============================] - 6s 2ms/step - loss: 0.4734\n",
      "Epoch 12/100\n",
      "3829/3829 [==============================] - 4s 1ms/step - loss: 0.4702\n",
      "Epoch 13/100\n",
      "3829/3829 [==============================] - 4s 1ms/step - loss: 0.4673\n",
      "Epoch 14/100\n",
      "3829/3829 [==============================] - 5s 1ms/step - loss: 0.4642\n",
      "Epoch 15/100\n",
      "3829/3829 [==============================] - 4s 1ms/step - loss: 0.4611\n",
      "Epoch 16/100\n",
      "3829/3829 [==============================] - 5s 1ms/step - loss: 0.4581\n",
      "Epoch 17/100\n",
      "3829/3829 [==============================] - 4s 1ms/step - loss: 0.4552\n",
      "Epoch 18/100\n",
      "3829/3829 [==============================] - 4s 1ms/step - loss: 0.4524\n",
      "Epoch 19/100\n",
      "3829/3829 [==============================] - 5s 1ms/step - loss: 0.4501\n",
      "Epoch 20/100\n",
      "3829/3829 [==============================] - 4s 1ms/step - loss: 0.4478\n",
      "Epoch 21/100\n",
      "3829/3829 [==============================] - 4s 1ms/step - loss: 0.4458\n",
      "Epoch 22/100\n",
      "3829/3829 [==============================] - 4s 1ms/step - loss: 0.4438\n",
      "Epoch 23/100\n",
      "3829/3829 [==============================] - 4s 1ms/step - loss: 0.4420\n",
      "Epoch 24/100\n",
      "3829/3829 [==============================] - 4s 1ms/step - loss: 0.4403\n",
      "Epoch 25/100\n",
      "3829/3829 [==============================] - 4s 1ms/step - loss: 0.4389\n",
      "Epoch 26/100\n",
      "3829/3829 [==============================] - 4s 1ms/step - loss: 0.4373\n",
      "Epoch 27/100\n",
      "3829/3829 [==============================] - 4s 1ms/step - loss: 0.4358\n",
      "Epoch 28/100\n",
      "3829/3829 [==============================] - 4s 1ms/step - loss: 0.4347\n",
      "Epoch 29/100\n",
      "3829/3829 [==============================] - 4s 1ms/step - loss: 0.4334\n",
      "Epoch 30/100\n",
      "3829/3829 [==============================] - 4s 1ms/step - loss: 0.4323\n",
      "Epoch 31/100\n",
      "3829/3829 [==============================] - 4s 1ms/step - loss: 0.4312\n",
      "Epoch 32/100\n",
      "3829/3829 [==============================] - 4s 1ms/step - loss: 0.4301\n",
      "Epoch 33/100\n",
      "3829/3829 [==============================] - 4s 1ms/step - loss: 0.4292\n",
      "Epoch 34/100\n",
      "3829/3829 [==============================] - 4s 1ms/step - loss: 0.4281\n",
      "Epoch 35/100\n",
      "3829/3829 [==============================] - 4s 1ms/step - loss: 0.4273\n",
      "Epoch 36/100\n",
      "3829/3829 [==============================] - 4s 1ms/step - loss: 0.4263\n",
      "Epoch 37/100\n",
      "3829/3829 [==============================] - 5s 1ms/step - loss: 0.4254\n",
      "Epoch 38/100\n",
      "3829/3829 [==============================] - 4s 1ms/step - loss: 0.4245\n",
      "Epoch 39/100\n",
      "3829/3829 [==============================] - 4s 1ms/step - loss: 0.4235\n",
      "Epoch 40/100\n",
      "3829/3829 [==============================] - 4s 1ms/step - loss: 0.4226\n",
      "Epoch 41/100\n",
      "3829/3829 [==============================] - 4s 1ms/step - loss: 0.4217\n",
      "Epoch 42/100\n",
      "3829/3829 [==============================] - 5s 1ms/step - loss: 0.4208\n",
      "Epoch 43/100\n",
      "3829/3829 [==============================] - 5s 1ms/step - loss: 0.4199\n",
      "Epoch 44/100\n",
      "3829/3829 [==============================] - 4s 1ms/step - loss: 0.4189\n",
      "Epoch 45/100\n",
      "3829/3829 [==============================] - 5s 1ms/step - loss: 0.4179\n",
      "Epoch 46/100\n",
      "3829/3829 [==============================] - 5s 1ms/step - loss: 0.4167\n",
      "Epoch 47/100\n",
      "3829/3829 [==============================] - 5s 1ms/step - loss: 0.4155\n",
      "Epoch 48/100\n",
      "3829/3829 [==============================] - 5s 1ms/step - loss: 0.4140\n",
      "Epoch 49/100\n",
      "3829/3829 [==============================] - 4s 1ms/step - loss: 0.4120\n",
      "Epoch 50/100\n",
      "3829/3829 [==============================] - 4s 1ms/step - loss: 0.4103\n",
      "Epoch 51/100\n",
      "3829/3829 [==============================] - 5s 1ms/step - loss: 0.4088\n",
      "Epoch 52/100\n",
      "3829/3829 [==============================] - 4s 1ms/step - loss: 0.4075\n",
      "Epoch 53/100\n",
      "3829/3829 [==============================] - 5s 1ms/step - loss: 0.4061\n",
      "Epoch 54/100\n",
      "3829/3829 [==============================] - 6s 1ms/step - loss: 0.4049\n",
      "Epoch 55/100\n",
      "3829/3829 [==============================] - 5s 1ms/step - loss: 0.4037\n",
      "Epoch 56/100\n",
      "3829/3829 [==============================] - 5s 1ms/step - loss: 0.4024\n",
      "Epoch 57/100\n",
      "3829/3829 [==============================] - 4s 1ms/step - loss: 0.4012\n",
      "Epoch 58/100\n",
      "3829/3829 [==============================] - 5s 1ms/step - loss: 0.4002\n",
      "Epoch 59/100\n",
      "3829/3829 [==============================] - 5s 1ms/step - loss: 0.3991\n",
      "Epoch 60/100\n",
      "3829/3829 [==============================] - 5s 1ms/step - loss: 0.3981\n",
      "Epoch 61/100\n",
      "3829/3829 [==============================] - 4s 1ms/step - loss: 0.3971\n",
      "Epoch 62/100\n",
      "3829/3829 [==============================] - 5s 1ms/step - loss: 0.3960\n",
      "Epoch 63/100\n",
      "3829/3829 [==============================] - 5s 1ms/step - loss: 0.3951\n",
      "Epoch 64/100\n",
      "3829/3829 [==============================] - 5s 1ms/step - loss: 0.3941\n",
      "Epoch 65/100\n",
      "3829/3829 [==============================] - 4s 1ms/step - loss: 0.3933\n",
      "Epoch 66/100\n",
      "3829/3829 [==============================] - 4s 1ms/step - loss: 0.3924\n",
      "Epoch 67/100\n",
      "3829/3829 [==============================] - 5s 1ms/step - loss: 0.3915\n",
      "Epoch 68/100\n",
      "3829/3829 [==============================] - 4s 1ms/step - loss: 0.3907\n",
      "Epoch 69/100\n",
      "3829/3829 [==============================] - 4s 995us/step - loss: 0.3898\n",
      "Epoch 70/100\n",
      "3829/3829 [==============================] - 4s 1ms/step - loss: 0.3889\n",
      "Epoch 71/100\n",
      "3829/3829 [==============================] - 4s 1ms/step - loss: 0.3881\n",
      "Epoch 72/100\n",
      "3829/3829 [==============================] - 4s 1ms/step - loss: 0.3873\n",
      "Epoch 73/100\n",
      "3829/3829 [==============================] - 5s 1ms/step - loss: 0.3865\n",
      "Epoch 74/100\n",
      "3829/3829 [==============================] - 4s 1ms/step - loss: 0.3856\n",
      "Epoch 75/100\n",
      "3829/3829 [==============================] - 4s 1ms/step - loss: 0.3848\n",
      "Epoch 76/100\n",
      "3829/3829 [==============================] - 4s 1ms/step - loss: 0.3840\n",
      "Epoch 77/100\n",
      "3829/3829 [==============================] - 5s 1ms/step - loss: 0.3832\n",
      "Epoch 78/100\n",
      "3829/3829 [==============================] - 4s 1ms/step - loss: 0.3823\n",
      "Epoch 79/100\n",
      "3829/3829 [==============================] - 4s 1ms/step - loss: 0.3816\n",
      "Epoch 80/100\n",
      "3829/3829 [==============================] - 5s 1ms/step - loss: 0.3808\n",
      "Epoch 81/100\n",
      "3829/3829 [==============================] - 6s 2ms/step - loss: 0.3801\n",
      "Epoch 82/100\n",
      "3829/3829 [==============================] - 7s 2ms/step - loss: 0.3795\n",
      "Epoch 83/100\n",
      "3829/3829 [==============================] - 6s 2ms/step - loss: 0.3787\n",
      "Epoch 84/100\n",
      "3829/3829 [==============================] - 6s 2ms/step - loss: 0.3780\n",
      "Epoch 85/100\n",
      "3829/3829 [==============================] - 6s 2ms/step - loss: 0.3773\n",
      "Epoch 86/100\n",
      "3829/3829 [==============================] - 6s 2ms/step - loss: 0.3768\n",
      "Epoch 87/100\n",
      "3829/3829 [==============================] - 6s 1ms/step - loss: 0.3762\n",
      "Epoch 88/100\n",
      "3829/3829 [==============================] - 5s 1ms/step - loss: 0.3757\n",
      "Epoch 89/100\n",
      "3829/3829 [==============================] - 4s 1ms/step - loss: 0.3751\n",
      "Epoch 90/100\n",
      "3829/3829 [==============================] - 5s 1ms/step - loss: 0.3745\n",
      "Epoch 91/100\n",
      "3829/3829 [==============================] - 5s 1ms/step - loss: 0.3739\n",
      "Epoch 92/100\n",
      "3829/3829 [==============================] - 5s 1ms/step - loss: 0.3736\n",
      "Epoch 93/100\n",
      "3829/3829 [==============================] - 7s 2ms/step - loss: 0.3730\n",
      "Epoch 94/100\n",
      "3829/3829 [==============================] - 8s 2ms/step - loss: 0.3725\n",
      "Epoch 95/100\n",
      "3829/3829 [==============================] - 8s 2ms/step - loss: 0.3722\n",
      "Epoch 96/100\n",
      "3829/3829 [==============================] - 7s 2ms/step - loss: 0.3718\n",
      "Epoch 97/100\n"
     ]
    },
    {
     "name": "stdout",
     "output_type": "stream",
     "text": [
      "3829/3829 [==============================] - 7s 2ms/step - loss: 0.3711\n",
      "Epoch 98/100\n",
      "3829/3829 [==============================] - 9s 2ms/step - loss: 0.3710\n",
      "Epoch 99/100\n",
      "3829/3829 [==============================] - 7s 2ms/step - loss: 0.3706\n",
      "Epoch 100/100\n",
      "3829/3829 [==============================] - 8s 2ms/step - loss: 0.3703\n"
     ]
    },
    {
     "data": {
      "image/png": "[encoded data removed]",
      "text/plain": [
       "<Figure size 432x288 with 1 Axes>"
      ]
     },
     "metadata": {
      "needs_background": "light"
     },
     "output_type": "display_data"
    }
   ],
   "source": [
    "''' Building the NN '''\n",
    "\n",
    "tf.keras.backend.clear_session()\n",
    "\n",
    "fraction = 0.35\n",
    "point = int(len(dataset)*fraction)\n",
    "\n",
    "xtrain = dataset[:point,:-4]\n",
    "ytrain = dataset[:point,-4:]\n",
    "\n",
    "xtest  = dataset[point:,:-4]\n",
    "ytest  = dataset[point:,-4:]\n",
    "\n",
    "model2 = createmodel()\n",
    "\n",
    "#saving the model\n",
    "modelfolder = '/Users/dan-ioanbultoc/Desktop/EE/training/'\n",
    "\n",
    "os.path.dirname(modelfolder)\n",
    "modelsaver = tf.keras.callbacks.ModelCheckpoint(filepath = modelfolder, save_weights_only = True)\n",
    "\n",
    "''' Training the NN '''\n",
    "\n",
    "history = model2.fit(x = xtrain, y=ytrain, epochs=100, verbose = True, callbacks = [modelsaver])\n",
    "plt.plot(history.history[\"loss\"])\n",
    "plt.show()"
   ]
  },
  {
   "cell_type": "code",
   "execution_count": 150,
   "metadata": {},
   "outputs": [],
   "source": [
    "def process(prediction):#converts from % prediction to [0,0,1,0]\n",
    "    for i in range(len(prediction)):\n",
    "        Maxj = 0\n",
    "        for j in range(len(prediction[i])):\n",
    "            if prediction[i][j] > prediction[i][Maxj]:\n",
    "                Maxj = j       \n",
    "        prediction[i] = [0 if prediction[i][Maxj] > prediction[i][j] else 1 for j in range(len(prediction[i]))]"
   ]
  },
  {
   "cell_type": "code",
   "execution_count": 151,
   "metadata": {},
   "outputs": [],
   "source": [
    "def analyzemodel(model, xtestdata, ytestdata):\n",
    "    pred = model.predict(xtestdata)\n",
    "    process(pred)\n",
    "    \n",
    "    diff = abs(pred-ytestdata)\n",
    "    \n",
    "    eff = 0\n",
    "    for predict in diff:\n",
    "        eff += 1\n",
    "        for feature in predict:\n",
    "            if feature != 0:\n",
    "                eff -= 1\n",
    "                break\n",
    "    \n",
    "    eff /= len(diff)\n",
    "    return eff*100"
   ]
  },
  {
   "cell_type": "code",
   "execution_count": 152,
   "metadata": {},
   "outputs": [
    {
     "name": "stdout",
     "output_type": "stream",
     "text": [
      "61.53777081190511\n"
     ]
    }
   ],
   "source": [
    "print(analyzemodel(model2, xtrain, ytrain))\n",
    "\n",
    "#print(ytrain[:50,:]) "
   ]
  },
  {
   "cell_type": "code",
   "execution_count": 153,
   "metadata": {},
   "outputs": [
    {
     "name": "stdout",
     "output_type": "stream",
     "text": [
      "61.7661150304389\n"
     ]
    }
   ],
   "source": [
    "print(analyzemodel(model2, xtest, ytest))"
   ]
  },
  {
   "cell_type": "code",
   "execution_count": 147,
   "metadata": {},
   "outputs": [
    {
     "data": {
      "text/plain": [
       "<tensorflow.python.training.tracking.util.CheckpointLoadStatus at 0x7fbea4fb3130>"
      ]
     },
     "execution_count": 147,
     "metadata": {},
     "output_type": "execute_result"
    }
   ],
   "source": [
    "savedmodel = createmodel()\n",
    "savedmodel.load_weights(modelfolder)"
   ]
  },
  {
   "cell_type": "code",
   "execution_count": 148,
   "metadata": {},
   "outputs": [
    {
     "name": "stdout",
     "output_type": "stream",
     "text": [
      "[0. 0. 1. 0.]\n",
      "[0.2090705  0.21439794 0.24846318 0.53235114]\n"
     ]
    }
   ],
   "source": [
    "print(ytest[0])\n",
    "print(pred[0])"
   ]
  },
  {
   "cell_type": "code",
   "execution_count": null,
   "metadata": {},
   "outputs": [],
   "source": []
  },
  {
   "cell_type": "code",
   "execution_count": 34,
   "metadata": {},
   "outputs": [],
   "source": [
    "def drawhist(name, Data, filters, function):\n",
    "    boundlow = 0\n",
    "    boundhigh = 0\n",
    "    \n",
    "    for d in Data:\n",
    "        skip = False\n",
    "        for f in filters:\n",
    "            if f(d) == False:\n",
    "                skip = True\n",
    "        if skip:\n",
    "            continue\n",
    "        g = function(d)\n",
    "        if boundlow > g:\n",
    "            boundlow = g\n",
    "        if boundhigh < g:\n",
    "            boundhigh = g\n",
    "            \n",
    "    \n",
    "    hist = ROOT.TH1F(name, name, int(np.sqrt(len(Data))), boundlow, boundhigh)\n",
    "    \n",
    "    for d in Data:\n",
    "        skip = False\n",
    "        for f in filters:\n",
    "            if f(d) == False:\n",
    "                skip = True\n",
    "        if skip:\n",
    "            continue\n",
    "        g = function(d)\n",
    "        hist.Fill(g)\n",
    "        \n",
    "    print(boundlow)\n",
    "    print(boundhigh)\n",
    "    return hist"
   ]
  },
  {
   "cell_type": "code",
   "execution_count": 64,
   "metadata": {},
   "outputs": [],
   "source": [
    "def eta(p):\n",
    "    pt = np.sqrt(p[1]**2+p[2]**2)\n",
    "    pz = p[3]\n",
    "    return np.log(abs(np.tan((pt-pz)/(2*(pt+pz)))))"
   ]
  },
  {
   "cell_type": "code",
   "execution_count": 127,
   "metadata": {},
   "outputs": [],
   "source": [
    "def photonpt(d):\n",
    "    return np.sqrt(d[1]**2 + d[2]**2)\n",
    "\n",
    "def invariantmass(d):\n",
    "    return np.sqrt((d[0]+d[4])**2-(d[1]+d[5])**2-(d[2]+d[6])**2-(d[3]+d[7])**2)\n",
    "\n",
    "def TInvariant(d):\n",
    "    return np.sqrt(abs((d[0]-d[4])**2-(d[1]-d[5])**2-(d[2]-d[6])**2-(d[3]-d[7])**2))\n",
    "\n",
    "def drawallhist(name, Lfunction):\n",
    "    WWhist = drawhist('WWH_'+name, dataset, [lambda d: (True if d[10] == 1 else False)], lambda d: (Lfunction(d)))\n",
    "    WWhist.Draw()\n",
    "    ww = 'WWH'+name+'.jpeg'\n",
    "    canvas.Print(str(ww))\n",
    "\n",
    "    data1im = drawhist('dataset1'+name, dataset, [lambda d: (True if d[11] == 1 else False)], lambda d: (Lfunction(d)))\n",
    "    data1im.Draw()\n",
    "    ww = 'dataset1'+name+'.jpeg'\n",
    "    canvas.Print(ww)\n",
    "\n",
    "    data2im = drawhist('dataset2'+name, dataset, [lambda d: (True if d[12] == 1 else False)], lambda d: (Lfunction(d)))\n",
    "    data2im.Draw()\n",
    "    ww = 'dataset2'+name+'.jpeg'\n",
    "    canvas.Print(ww)\n",
    "\n",
    "    data3im = drawhist('dataset3'+name, dataset, [lambda d: (True if d[13] == 1 else False)], lambda d: (Lfunction(d)))\n",
    "    data3im.Draw()\n",
    "    ww = 'dataset3'+name+'.jpeg'\n",
    "    canvas.Print(ww)\n",
    "\n",
    "    data4im = drawhist('dataset4_'+name, dataset, [lambda d: (True if d[14] == 1 else False)], lambda d: (Lfunction(d)))\n",
    "    data4im.Draw()\n",
    "    ww = 'dataset4'+name+'.jpeg'\n",
    "    canvas.Print(ww)\n",
    "\n",
    "    ttHim = drawhist('tt'+name, dataset, [lambda d: (True if d[8] == 1 else False)], lambda d: (Lfunction(d)))\n",
    "    ttHim.Draw()\n",
    "    ww = 'ttH'+name+'.jpeg'\n",
    "    canvas.Print(ww)\n",
    "\n",
    "    ggHim = drawhist('gg'+name, dataset, [lambda d: (True if d[9] == 1 else False)], lambda d: (Lfunction(d)))\n",
    "    ggHim.Draw()\n",
    "    ww = 'ggH'+name+'.jpeg'\n",
    "    canvas.Print(ww)"
   ]
  },
  {
   "cell_type": "code",
   "execution_count": null,
   "metadata": {},
   "outputs": [],
   "source": [
    "''' old nn with only MC\n",
    "Building the NN '''\n",
    "\n",
    "tf.keras.backend.clear_session()\n",
    "\n",
    "ilayer = layers.Dense(units = 3, input_dim = len(dataset[0,:-3]), activation=\"relu\")\n",
    "layer1 = layers.Dense(units = 8, activation=\"relu\")\n",
    "layer2 = layers.Dense(units = 9, activation=\"relu\")\n",
    "olayer = layers.Dense(units = 3, activation = \"sigmoid\")\n",
    "\n",
    "#last layer has 3 nodes - 3 possibilities\n",
    "\n",
    "model = keras.Sequential([ilayer,layer1,layer2,olayer])\n",
    "\n",
    "fraction = 0.35\n",
    "point = int(len(dataset)*fraction)\n",
    "\n",
    "xtrain = dataset[:point,:-3]\n",
    "ytrain = dataset[:point,-3:]\n",
    "\n",
    "xtest  = dataset[point:,:-3]\n",
    "ytest  = dataset[point:,-3:]\n",
    "\n",
    "model.compile(\n",
    "    optimizer = keras.optimizers.SGD(0.001),\n",
    "    loss=\"binary_crossentropy\"\n",
    "    )\n",
    "\n",
    "''' Training the NN '''\n",
    "\n",
    "history = model.fit(x = xtrain, y=ytrain, epochs=3000, verbose = False)\n",
    "plt.plot(history.history[\"loss\"])\n",
    "plt.show()"
   ]
  }
 ],
 "metadata": {
  "kernelspec": {
   "display_name": "Python 3 (ipykernel)",
   "language": "python",
   "name": "python3"
  },
  "language_info": {
   "codemirror_mode": {
    "name": "ipython",
    "version": 3
   },
   "file_extension": ".py",
   "mimetype": "text/x-python",
   "name": "python",
   "nbconvert_exporter": "python",
   "pygments_lexer": "ipython3",
   "version": "3.9.7"
  }
 },
 "nbformat": 4,
 "nbformat_minor": 4
}
